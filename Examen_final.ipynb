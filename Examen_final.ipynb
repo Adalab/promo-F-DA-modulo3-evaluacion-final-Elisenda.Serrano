{
 "cells": [
  {
   "cell_type": "markdown",
   "metadata": {},
   "source": [
    "Fase 1: Exploración y Limpieza\n",
    "\n",
    "Exploración Inicial:\n",
    "\n",
    "Realiza una exploración inicial de los datos para identificar posibles problemas, como valores nulos, atípicos o datos faltantes en las columnas relevantes.\n",
    "\n",
    "Utiliza funciones de Pandas para obtener información sobre la estructura de los datos, la presencia de valores nulos y estadísticas básicas de las columnas involucradas.\n",
    "\n",
    "Une los dos conjuntos de datos de la forma más eficiente."
   ]
  },
  {
   "cell_type": "code",
   "execution_count": 720,
   "metadata": {},
   "outputs": [],
   "source": [
    "# Tratamiento de datos\n",
    "# -----------------------------------------------------------------------\n",
    "import pandas as pd\n",
    "import numpy as np\n",
    "\n",
    "# Visualización\n",
    "# ------------------------------------------------------------------------------\n",
    "import matplotlib.pyplot as plt\n",
    "import seaborn as sns\n",
    "\n",
    "# Evaluar linealidad de las relaciones entre las variables\n",
    "# ------------------------------------------------------------------------------\n",
    "import scipy.stats as stats\n",
    "from scipy.stats import shapiro, poisson, chisquare, expon, kstest,chi2_contingency,ttest_ind\n",
    "\n",
    "# Imputación de nulos usando métodos avanzados estadísticos\n",
    "# -----------------------------------------------------------------------\n",
    "from sklearn.impute import SimpleImputer\n",
    "from sklearn.experimental import enable_iterative_imputer\n",
    "from sklearn.impute import IterativeImputer\n",
    "from sklearn.impute import KNNImputer\n",
    "\n",
    "# Librerías de visualización\n",
    "# -----------------------------------------------------------------------\n",
    "import seaborn as sns\n",
    "import matplotlib.pyplot as plt\n",
    "\n",
    "# Configuración\n",
    "# -----------------------------------------------------------------------\n",
    "pd.set_option('display.max_columns', None) # para poder visualizar todas las columnas de los DataFrames\n",
    "\n",
    "# Gestión de los warnings\n",
    "# -----------------------------------------------------------------------\n",
    "import warnings\n",
    "warnings.filterwarnings(\"ignore\")\n",
    "\n",
    "\n",
    "pd.set_option('display.max_columns', None) # para poder visualizar todas las columnas de los DataFrames"
   ]
  },
  {
   "cell_type": "code",
   "execution_count": 721,
   "metadata": {},
   "outputs": [],
   "source": [
    "#abro los dos ficheros de trabajo y hacemos un reset index para sacar \n",
    "# el indice predeterminado al abrir el csv y sacar esta columna creada.\n",
    "df_flight = pd.read_csv(\"Customer Flight Activity.csv\").reset_index(drop=True)\n",
    "df_loyalty = pd.read_csv(\"Customer Loyalty History.csv\").reset_index(drop=True)"
   ]
  },
  {
   "cell_type": "code",
   "execution_count": 722,
   "metadata": {},
   "outputs": [
    {
     "name": "stdout",
     "output_type": "stream",
     "text": [
      "<class 'pandas.core.frame.DataFrame'>\n",
      "RangeIndex: 405624 entries, 0 to 405623\n",
      "Data columns (total 10 columns):\n",
      " #   Column                       Non-Null Count   Dtype  \n",
      "---  ------                       --------------   -----  \n",
      " 0   Loyalty Number               405624 non-null  int64  \n",
      " 1   Year                         405624 non-null  int64  \n",
      " 2   Month                        405624 non-null  int64  \n",
      " 3   Flights Booked               405624 non-null  int64  \n",
      " 4   Flights with Companions      405624 non-null  int64  \n",
      " 5   Total Flights                405624 non-null  int64  \n",
      " 6   Distance                     405624 non-null  int64  \n",
      " 7   Points Accumulated           405624 non-null  float64\n",
      " 8   Points Redeemed              405624 non-null  int64  \n",
      " 9   Dollar Cost Points Redeemed  405624 non-null  int64  \n",
      "dtypes: float64(1), int64(9)\n",
      "memory usage: 30.9 MB\n"
     ]
    },
    {
     "data": {
      "text/plain": [
       "None"
      ]
     },
     "metadata": {},
     "output_type": "display_data"
    },
    {
     "name": "stdout",
     "output_type": "stream",
     "text": [
      "<class 'pandas.core.frame.DataFrame'>\n",
      "RangeIndex: 16737 entries, 0 to 16736\n",
      "Data columns (total 16 columns):\n",
      " #   Column              Non-Null Count  Dtype  \n",
      "---  ------              --------------  -----  \n",
      " 0   Loyalty Number      16737 non-null  int64  \n",
      " 1   Country             16737 non-null  object \n",
      " 2   Province            16737 non-null  object \n",
      " 3   City                16737 non-null  object \n",
      " 4   Postal Code         16737 non-null  object \n",
      " 5   Gender              16737 non-null  object \n",
      " 6   Education           16737 non-null  object \n",
      " 7   Salary              12499 non-null  float64\n",
      " 8   Marital Status      16737 non-null  object \n",
      " 9   Loyalty Card        16737 non-null  object \n",
      " 10  CLV                 16737 non-null  float64\n",
      " 11  Enrollment Type     16737 non-null  object \n",
      " 12  Enrollment Year     16737 non-null  int64  \n",
      " 13  Enrollment Month    16737 non-null  int64  \n",
      " 14  Cancellation Year   2067 non-null   float64\n",
      " 15  Cancellation Month  2067 non-null   float64\n",
      "dtypes: float64(4), int64(3), object(9)\n",
      "memory usage: 2.0+ MB\n"
     ]
    },
    {
     "data": {
      "text/plain": [
       "None"
      ]
     },
     "metadata": {},
     "output_type": "display_data"
    }
   ],
   "source": [
    "display(df_flight.info())\n",
    "display(df_loyalty.info())\n"
   ]
  },
  {
   "cell_type": "code",
   "execution_count": 723,
   "metadata": {},
   "outputs": [],
   "source": [
    "#vemos que los dos dataframes podemos unirlos por una columna en commun \"Loyalty Number\".\n",
    "# Usamos un inner para que nos conserve todas las filas, es aquí donde realmente realizaremos nuestra exploración y lipieza de datos.\n",
    "df_mergeado_inner = df_flight.merge(df_loyalty, left_on='Loyalty Number', right_on = \"Loyalty Number\")"
   ]
  },
  {
   "cell_type": "markdown",
   "metadata": {},
   "source": [
    "2.Limpieza de Datos:\n",
    "\n",
    "Elimina o trata los valores nulos, si los hay, en las columnas clave para asegurar que los datos estén completos.\n",
    "Verifica la consistencia y corrección de los datos para asegurarte de que los datos se presenten de forma coherente.\n",
    "\n",
    "Realiza cualquier ajuste o conversión necesaria en las columnas (por ejemplo, cambiar tipos de datos) para garantizar la adecuación de los datos para el análisis estadístico."
   ]
  },
  {
   "cell_type": "code",
   "execution_count": 724,
   "metadata": {},
   "outputs": [],
   "source": [
    "#creamos una función para la exploración de datos.\n",
    "def exploracion_dataframe(dataframe):\n",
    "    \"\"\"\n",
    "    Realiza un análisis exploratorio detallado de un DataFrame.\n",
    "\n",
    "    Parámetros:\n",
    "    - dataframe (DataFrame): El DataFrame que se va a explorar.\n",
    "\n",
    "    Returns: \n",
    "    No devuelve nada directamente, pero imprime en la consola la información exploratoria.\n",
    "    \"\"\"\n",
    "    \n",
    "    # Duplicados\n",
    "    duplicados = dataframe.duplicated().sum()\n",
    "    print(f\"Duplicados en el conjunto de datos: {duplicados}\")\n",
    "    print(\"\\n ..................... \\n\")\n",
    "    \n",
    "    # Tipos de datos por columna\n",
    "    print(\"Tipos de datos por columna:\")\n",
    "    print(pd.DataFrame(dataframe.dtypes, columns=[\"Tipo de Dato\"]))\n",
    "    print(\"\\n ..................... \\n\")\n",
    "    \n",
    "    # Nulos de columnas numéricas en porcentajes\n",
    "    nulos_numericas = dataframe.select_dtypes(include=[\"float64\", \"int64\"]).isnull().sum() / dataframe.shape[0] * 100\n",
    "    print(\"Porcentaje de nulos para columnas numéricas:\")\n",
    "    print(pd.DataFrame(nulos_numericas, columns=[\"% Nulos\"]))\n",
    "    print(\"\\n ..................... \\n\")\n",
    "    \n",
    "    # Nulos de columnas categóricas en porcentajes\n",
    "    nulos_categoricas = dataframe.select_dtypes(include=\"O\").isnull().sum() / dataframe.shape[0] * 100\n",
    "    print(\"Porcentaje de nulos para columnas categóricas:\")\n",
    "    print(pd.DataFrame(nulos_categoricas, columns=[\"% Nulos\"]))\n",
    "    print(\"\\n ..................... \\n\")\n",
    "    \n",
    "    # Valores únicos para columnas categóricas\n",
    "    print(\"Valores únicos para columnas categóricas:\")\n",
    "    dataframe_categoricas = dataframe.select_dtypes(include=\"O\")\n",
    "    for col in dataframe_categoricas.columns:\n",
    "        print(f\"La columna {col.upper()} tiene los siguientes valores únicos:\")\n",
    "        print(dataframe[col].value_counts().head())\n",
    "    print(\"\\n ..................... \\n\")\n",
    "    \n",
    "    # Estadísticas descriptivas para columnas numéricas\n",
    "    print(\"Estadísticas descriptivas para columnas numéricas:\")\n",
    "    print(dataframe.describe(include=[\"float64\", \"int64\"]).T)\n",
    "    print(\"\\n ..................... \\n\")\n",
    "    \n",
    "    # Estadísticas descriptivas para columnas categóricas\n",
    "    print(\"Estadísticas descriptivas para columnas categóricas:\")\n",
    "    print(dataframe.describe(include=\"O\").T)\n",
    "    print(\"\\n ..................... \\n\")\n",
    "\n",
    "\n"
   ]
  },
  {
   "cell_type": "code",
   "execution_count": 725,
   "metadata": {},
   "outputs": [
    {
     "name": "stdout",
     "output_type": "stream",
     "text": [
      "Con la exploración vemos que hay duplicados y nulos.\n",
      "Optamos por no eliminar los duplicados ya que viendo las columnas del df\n",
      "podriamos sospechar que se trata de Loyal Number (ejerce como un client id),\n",
      "clientes que han viajado en varias ocasiones.\n",
      "\n",
      "Para los nulos observamos que las columnas Cancellation Month y Year tienen un alto porcentaje de nulos\n",
      "Las eliminamos y seguimos investigando la columna Salrios\n",
      "-------------------\n"
     ]
    },
    {
     "name": "stdout",
     "output_type": "stream",
     "text": [
      "Duplicados en el conjunto de datos: 1864\n",
      "\n",
      " ..................... \n",
      "\n",
      "Tipos de datos por columna:\n",
      "                            Tipo de Dato\n",
      "Loyalty Number                     int64\n",
      "Year                               int64\n",
      "Month                              int64\n",
      "Flights Booked                     int64\n",
      "Flights with Companions            int64\n",
      "Total Flights                      int64\n",
      "Distance                           int64\n",
      "Points Accumulated               float64\n",
      "Points Redeemed                    int64\n",
      "Dollar Cost Points Redeemed        int64\n",
      "Country                           object\n",
      "Province                          object\n",
      "City                              object\n",
      "Postal Code                       object\n",
      "Gender                            object\n",
      "Education                         object\n",
      "Salary                           float64\n",
      "Marital Status                    object\n",
      "Loyalty Card                      object\n",
      "CLV                              float64\n",
      "Enrollment Type                   object\n",
      "Enrollment Year                    int64\n",
      "Enrollment Month                   int64\n",
      "Cancellation Year                float64\n",
      "Cancellation Month               float64\n",
      "\n",
      " ..................... \n",
      "\n",
      "Porcentaje de nulos para columnas numéricas:\n",
      "                               % Nulos\n",
      "Loyalty Number                0.000000\n",
      "Year                          0.000000\n",
      "Month                         0.000000\n",
      "Flights Booked                0.000000\n",
      "Flights with Companions       0.000000\n",
      "Total Flights                 0.000000\n",
      "Distance                      0.000000\n",
      "Points Accumulated            0.000000\n",
      "Points Redeemed               0.000000\n",
      "Dollar Cost Points Redeemed   0.000000\n",
      "Salary                       25.312112\n",
      "CLV                           0.000000\n",
      "Enrollment Year               0.000000\n",
      "Enrollment Month              0.000000\n",
      "Cancellation Year            87.657535\n",
      "Cancellation Month           87.657535\n",
      "\n",
      " ..................... \n",
      "\n",
      "Porcentaje de nulos para columnas categóricas:\n",
      "                 % Nulos\n",
      "Country              0.0\n",
      "Province             0.0\n",
      "City                 0.0\n",
      "Postal Code          0.0\n",
      "Gender               0.0\n",
      "Education            0.0\n",
      "Marital Status       0.0\n",
      "Loyalty Card         0.0\n",
      "Enrollment Type      0.0\n",
      "\n",
      " ..................... \n",
      "\n",
      "Valores únicos para columnas categóricas:\n",
      "La columna COUNTRY tiene los siguientes valores únicos:\n",
      "Country\n",
      "Canada    405624\n",
      "Name: count, dtype: int64\n",
      "La columna PROVINCE tiene los siguientes valores únicos:\n",
      "Province\n",
      "Ontario             130896\n",
      "British Columbia    106848\n",
      "Quebec               79968\n",
      "Alberta              23400\n",
      "Manitoba             15984\n",
      "Name: count, dtype: int64\n",
      "La columna CITY tiene los siguientes valores únicos:\n",
      "City\n",
      "Toronto      81096\n",
      "Vancouver    62520\n",
      "Montreal     49920\n",
      "Winnipeg     15984\n",
      "Whistler     14040\n",
      "Name: count, dtype: int64\n",
      "La columna POSTAL CODE tiene los siguientes valores únicos:\n",
      "Postal Code\n",
      "V6E 3D9    21984\n",
      "V5R 1W3    16608\n",
      "V6T 1Y8    14040\n",
      "V6E 3Z3    13200\n",
      "M2M 7K8    12936\n",
      "Name: count, dtype: int64\n",
      "La columna GENDER tiene los siguientes valores únicos:\n",
      "Gender\n",
      "Female    203640\n",
      "Male      201984\n",
      "Name: count, dtype: int64\n",
      "La columna EDUCATION tiene los siguientes valores únicos:\n",
      "Education\n",
      "Bachelor                253752\n",
      "College                 102672\n",
      "High School or Below     19008\n",
      "Doctor                   17856\n",
      "Master                   12336\n",
      "Name: count, dtype: int64\n",
      "La columna MARITAL STATUS tiene los siguientes valores únicos:\n",
      "Marital Status\n",
      "Married     235800\n",
      "Single      108648\n",
      "Divorced     61176\n",
      "Name: count, dtype: int64\n",
      "La columna LOYALTY CARD tiene los siguientes valores únicos:\n",
      "Loyalty Card\n",
      "Star      184224\n",
      "Nova      137568\n",
      "Aurora     83832\n",
      "Name: count, dtype: int64\n",
      "La columna ENROLLMENT TYPE tiene los siguientes valores únicos:\n",
      "Enrollment Type\n",
      "Standard          382200\n",
      "2018 Promotion     23424\n",
      "Name: count, dtype: int64\n",
      "\n",
      " ..................... \n",
      "\n",
      "Estadísticas descriptivas para columnas numéricas:\n",
      "                                count           mean            std  \\\n",
      "Loyalty Number               405624.0  550037.873084  258935.286969   \n",
      "Year                         405624.0    2017.500000       0.500001   \n",
      "Month                        405624.0       6.500000       3.452057   \n",
      "Flights Booked               405624.0       4.115052       5.225518   \n",
      "Flights with Companions      405624.0       1.031805       2.076869   \n",
      "Total Flights                405624.0       5.146858       6.521227   \n",
      "Distance                     405624.0    1208.880059    1433.155320   \n",
      "Points Accumulated           405624.0     123.692721     146.599831   \n",
      "Points Redeemed              405624.0      30.696872     125.486049   \n",
      "Dollar Cost Points Redeemed  405624.0       2.484503      10.150038   \n",
      "Salary                       302952.0   79268.825953   34992.133508   \n",
      "CLV                          405624.0    7991.976226    6863.663857   \n",
      "Enrollment Year              405624.0    2015.252529       1.979427   \n",
      "Enrollment Month             405624.0       6.668008       3.399766   \n",
      "Cancellation Year             50064.0    2016.499521       1.384336   \n",
      "Cancellation Month            50064.0       6.966443       3.448300   \n",
      "\n",
      "                                   min        25%        50%        75%  \\\n",
      "Loyalty Number               100018.00  326961.00  550834.00  772194.00   \n",
      "Year                           2017.00    2017.00    2017.50    2018.00   \n",
      "Month                             1.00       3.75       6.50       9.25   \n",
      "Flights Booked                    0.00       0.00       1.00       8.00   \n",
      "Flights with Companions           0.00       0.00       0.00       1.00   \n",
      "Total Flights                     0.00       0.00       1.00      10.00   \n",
      "Distance                          0.00       0.00     488.00    2336.00   \n",
      "Points Accumulated                0.00       0.00      50.00     239.00   \n",
      "Points Redeemed                   0.00       0.00       0.00       0.00   \n",
      "Dollar Cost Points Redeemed       0.00       0.00       0.00       0.00   \n",
      "Salary                       -58486.00   59262.00   73479.00   88612.00   \n",
      "CLV                            1898.01    3985.32    5776.34    8936.82   \n",
      "Enrollment Year                2012.00    2014.00    2015.00    2017.00   \n",
      "Enrollment Month                  1.00       4.00       7.00      10.00   \n",
      "Cancellation Year              2013.00    2016.00    2017.00    2018.00   \n",
      "Cancellation Month                1.00       4.00       7.00      10.00   \n",
      "\n",
      "                                   max  \n",
      "Loyalty Number               999986.00  \n",
      "Year                           2018.00  \n",
      "Month                            12.00  \n",
      "Flights Booked                   21.00  \n",
      "Flights with Companions          11.00  \n",
      "Total Flights                    32.00  \n",
      "Distance                       6293.00  \n",
      "Points Accumulated              676.50  \n",
      "Points Redeemed                 876.00  \n",
      "Dollar Cost Points Redeemed      71.00  \n",
      "Salary                       407228.00  \n",
      "CLV                           83325.38  \n",
      "Enrollment Year                2018.00  \n",
      "Enrollment Month                 12.00  \n",
      "Cancellation Year              2018.00  \n",
      "Cancellation Month               12.00  \n",
      "\n",
      " ..................... \n",
      "\n",
      "Estadísticas descriptivas para columnas categóricas:\n",
      "                  count unique       top    freq\n",
      "Country          405624      1    Canada  405624\n",
      "Province         405624     11   Ontario  130896\n",
      "City             405624     29   Toronto   81096\n",
      "Postal Code      405624     55   V6E 3D9   21984\n",
      "Gender           405624      2    Female  203640\n",
      "Education        405624      5  Bachelor  253752\n",
      "Marital Status   405624      3   Married  235800\n",
      "Loyalty Card     405624      3      Star  184224\n",
      "Enrollment Type  405624      2  Standard  382200\n",
      "\n",
      " ..................... \n",
      "\n"
     ]
    }
   ],
   "source": [
    "print(\"Con la exploración vemos que hay duplicados y nulos.\\nOptamos por no eliminar los duplicados ya que viendo las columnas del df\\npodriamos sospechar que se trata de Loyal Number (ejerce como un client id),\\nclientes que han viajado en varias ocasiones.\\n\")\n",
    "print(\"Para los nulos observamos que las columnas Cancellation Month y Year tienen un alto porcentaje de nulos\\nLas eliminamos y seguimos investigando la columna Salrios\")\n",
    "\n",
    "print(\"-------------------\")\n",
    "\n",
    "exploracion_dataframe(df_mergeado_inner)\n"
   ]
  },
  {
   "cell_type": "code",
   "execution_count": 726,
   "metadata": {},
   "outputs": [],
   "source": [
    "columnas_a_eliminar = ['Cancellation Month', 'Cancellation Year']\n",
    "\n",
    "# Elimina las columnas especificadas\n",
    "df_mergeado_inner.drop(columns=columnas_a_eliminar, inplace=True)"
   ]
  },
  {
   "cell_type": "code",
   "execution_count": 727,
   "metadata": {},
   "outputs": [
    {
     "data": {
      "image/png": "[encoded data removed]",
      "text/plain": [
       "<Figure size 432x288 with 1 Axes>"
      ]
     },
     "metadata": {},
     "output_type": "display_data"
    }
   ],
   "source": [
    "#Hacemos una gráfica para ver cómo se distributen los valores de la columna Salarios que tiene nulos.\n",
    "sns.boxplot(x = \"Salary\", \n",
    "            data = df_mergeado_inner, \n",
    "            color = \"turquoise\");\n",
    "\n",
    "plt.show()\n",
    "\n"
   ]
  },
  {
   "cell_type": "code",
   "execution_count": 728,
   "metadata": {},
   "outputs": [
    {
     "name": "stdout",
     "output_type": "stream",
     "text": [
      "True: existen negativos\n"
     ]
    },
    {
     "data": {
      "text/html": [
       "<div>\n",
       "<style scoped>\n",
       "    .dataframe tbody tr th:only-of-type {\n",
       "        vertical-align: middle;\n",
       "    }\n",
       "\n",
       "    .dataframe tbody tr th {\n",
       "        vertical-align: top;\n",
       "    }\n",
       "\n",
       "    .dataframe thead th {\n",
       "        text-align: right;\n",
       "    }\n",
       "</style>\n",
       "<table border=\"1\" class=\"dataframe\">\n",
       "  <thead>\n",
       "    <tr style=\"text-align: right;\">\n",
       "      <th></th>\n",
       "      <th>Salary</th>\n",
       "      <th>Marital Status</th>\n",
       "    </tr>\n",
       "  </thead>\n",
       "  <tbody>\n",
       "    <tr>\n",
       "      <th>102727</th>\n",
       "      <td>-39503.0</td>\n",
       "      <td>Married</td>\n",
       "    </tr>\n",
       "    <tr>\n",
       "      <th>256912</th>\n",
       "      <td>-19332.0</td>\n",
       "      <td>Divorced</td>\n",
       "    </tr>\n",
       "    <tr>\n",
       "      <th>6423</th>\n",
       "      <td>-10605.0</td>\n",
       "      <td>Married</td>\n",
       "    </tr>\n",
       "    <tr>\n",
       "      <th>206102</th>\n",
       "      <td>-19325.0</td>\n",
       "      <td>Single</td>\n",
       "    </tr>\n",
       "    <tr>\n",
       "      <th>38498</th>\n",
       "      <td>-31911.0</td>\n",
       "      <td>Married</td>\n",
       "    </tr>\n",
       "  </tbody>\n",
       "</table>\n",
       "</div>"
      ],
      "text/plain": [
       "         Salary Marital Status\n",
       "102727 -39503.0        Married\n",
       "256912 -19332.0       Divorced\n",
       "6423   -10605.0        Married\n",
       "206102 -19325.0         Single\n",
       "38498  -31911.0        Married"
      ]
     },
     "execution_count": 728,
     "metadata": {},
     "output_type": "execute_result"
    }
   ],
   "source": [
    "#Vemos que en la columna de Salary hay valores negativos.\n",
    "hay_negativos = (df_mergeado_inner[\"Salary\"] < 0).any()\n",
    "print(f\"{hay_negativos}: existen negativos\")\n",
    "df_mergeado_inner.loc[df_mergeado_inner['Salary']< 0, \"Salary\":\"Marital Status\"].sample(5)\n"
   ]
  },
  {
   "cell_type": "code",
   "execution_count": 729,
   "metadata": {},
   "outputs": [
    {
     "data": {
      "text/html": [
       "<div>\n",
       "<style scoped>\n",
       "    .dataframe tbody tr th:only-of-type {\n",
       "        vertical-align: middle;\n",
       "    }\n",
       "\n",
       "    .dataframe tbody tr th {\n",
       "        vertical-align: top;\n",
       "    }\n",
       "\n",
       "    .dataframe thead th {\n",
       "        text-align: right;\n",
       "    }\n",
       "</style>\n",
       "<table border=\"1\" class=\"dataframe\">\n",
       "  <thead>\n",
       "    <tr style=\"text-align: right;\">\n",
       "      <th></th>\n",
       "      <th>Loyalty Number</th>\n",
       "      <th>Year</th>\n",
       "      <th>Month</th>\n",
       "      <th>Flights Booked</th>\n",
       "      <th>Flights with Companions</th>\n",
       "      <th>Total Flights</th>\n",
       "      <th>Distance</th>\n",
       "      <th>Points Accumulated</th>\n",
       "      <th>Points Redeemed</th>\n",
       "      <th>Dollar Cost Points Redeemed</th>\n",
       "      <th>Country</th>\n",
       "      <th>Province</th>\n",
       "      <th>City</th>\n",
       "      <th>Postal Code</th>\n",
       "      <th>Gender</th>\n",
       "      <th>Education</th>\n",
       "      <th>Salary</th>\n",
       "      <th>Marital Status</th>\n",
       "      <th>Loyalty Card</th>\n",
       "      <th>CLV</th>\n",
       "      <th>Enrollment Type</th>\n",
       "      <th>Enrollment Year</th>\n",
       "      <th>Enrollment Month</th>\n",
       "    </tr>\n",
       "  </thead>\n",
       "  <tbody>\n",
       "  </tbody>\n",
       "</table>\n",
       "</div>"
      ],
      "text/plain": [
       "Empty DataFrame\n",
       "Columns: [Loyalty Number, Year, Month, Flights Booked, Flights with Companions, Total Flights, Distance, Points Accumulated, Points Redeemed, Dollar Cost Points Redeemed, Country, Province, City, Postal Code, Gender, Education, Salary, Marital Status, Loyalty Card, CLV, Enrollment Type, Enrollment Year, Enrollment Month]\n",
       "Index: []"
      ]
     },
     "execution_count": 729,
     "metadata": {},
     "output_type": "execute_result"
    }
   ],
   "source": [
    "#transformamos en valores absolutos los valores de la columna \"Salary\"\n",
    "df_mergeado_inner['Salary'] = df_mergeado_inner['Salary'].abs()\n",
    "\n",
    "#comprobamos que no hayan negativos\n",
    "df_mergeado_inner[df_mergeado_inner['Salary']< 0]\n"
   ]
  },
  {
   "cell_type": "code",
   "execution_count": 730,
   "metadata": {},
   "outputs": [
    {
     "data": {
      "text/plain": [
       "Loyalty Number                      0\n",
       "Year                                0\n",
       "Month                               0\n",
       "Flights Booked                      0\n",
       "Flights with Companions             0\n",
       "Total Flights                       0\n",
       "Distance                            0\n",
       "Points Accumulated                  0\n",
       "Points Redeemed                     0\n",
       "Dollar Cost Points Redeemed         0\n",
       "Country                             0\n",
       "Province                            0\n",
       "City                                0\n",
       "Postal Code                         0\n",
       "Gender                              0\n",
       "Education                           0\n",
       "Salary                         102672\n",
       "Marital Status                      0\n",
       "Loyalty Card                        0\n",
       "CLV                                 0\n",
       "Enrollment Type                     0\n",
       "Enrollment Year                     0\n",
       "Enrollment Month                    0\n",
       "dtype: int64"
      ]
     },
     "execution_count": 730,
     "metadata": {},
     "output_type": "execute_result"
    }
   ],
   "source": [
    "df_mergeado_inner.isnull().sum()"
   ]
  },
  {
   "cell_type": "code",
   "execution_count": 731,
   "metadata": {},
   "outputs": [
    {
     "data": {
      "text/html": [
       "<div>\n",
       "<style scoped>\n",
       "    .dataframe tbody tr th:only-of-type {\n",
       "        vertical-align: middle;\n",
       "    }\n",
       "\n",
       "    .dataframe tbody tr th {\n",
       "        vertical-align: top;\n",
       "    }\n",
       "\n",
       "    .dataframe thead th {\n",
       "        text-align: right;\n",
       "    }\n",
       "</style>\n",
       "<table border=\"1\" class=\"dataframe\">\n",
       "  <thead>\n",
       "    <tr style=\"text-align: right;\">\n",
       "      <th></th>\n",
       "      <th>Loyalty Number</th>\n",
       "      <th>Year</th>\n",
       "      <th>Month</th>\n",
       "      <th>Flights Booked</th>\n",
       "      <th>Flights with Companions</th>\n",
       "      <th>Total Flights</th>\n",
       "      <th>Distance</th>\n",
       "      <th>Points Accumulated</th>\n",
       "      <th>Points Redeemed</th>\n",
       "      <th>Dollar Cost Points Redeemed</th>\n",
       "      <th>Country</th>\n",
       "      <th>Province</th>\n",
       "      <th>City</th>\n",
       "      <th>Postal Code</th>\n",
       "      <th>Gender</th>\n",
       "      <th>Education</th>\n",
       "      <th>Salary</th>\n",
       "      <th>Marital Status</th>\n",
       "      <th>Loyalty Card</th>\n",
       "      <th>CLV</th>\n",
       "      <th>Enrollment Type</th>\n",
       "      <th>Enrollment Year</th>\n",
       "      <th>Enrollment Month</th>\n",
       "    </tr>\n",
       "  </thead>\n",
       "  <tbody>\n",
       "    <tr>\n",
       "      <th>0</th>\n",
       "      <td>100018</td>\n",
       "      <td>2017</td>\n",
       "      <td>1</td>\n",
       "      <td>3</td>\n",
       "      <td>0</td>\n",
       "      <td>3</td>\n",
       "      <td>1521</td>\n",
       "      <td>152.0</td>\n",
       "      <td>0</td>\n",
       "      <td>0</td>\n",
       "      <td>Canada</td>\n",
       "      <td>Alberta</td>\n",
       "      <td>Edmonton</td>\n",
       "      <td>T9G 1W3</td>\n",
       "      <td>Female</td>\n",
       "      <td>Bachelor</td>\n",
       "      <td>92552.0</td>\n",
       "      <td>Married</td>\n",
       "      <td>Aurora</td>\n",
       "      <td>7919.2</td>\n",
       "      <td>Standard</td>\n",
       "      <td>2016</td>\n",
       "      <td>8</td>\n",
       "    </tr>\n",
       "  </tbody>\n",
       "</table>\n",
       "</div>"
      ],
      "text/plain": [
       "   Loyalty Number  Year  Month  Flights Booked  Flights with Companions  \\\n",
       "0          100018  2017      1               3                        0   \n",
       "\n",
       "   Total Flights  Distance  Points Accumulated  Points Redeemed  \\\n",
       "0              3      1521               152.0                0   \n",
       "\n",
       "   Dollar Cost Points Redeemed Country Province      City Postal Code  Gender  \\\n",
       "0                            0  Canada  Alberta  Edmonton     T9G 1W3  Female   \n",
       "\n",
       "  Education   Salary Marital Status Loyalty Card     CLV Enrollment Type  \\\n",
       "0  Bachelor  92552.0        Married       Aurora  7919.2        Standard   \n",
       "\n",
       "   Enrollment Year  Enrollment Month  \n",
       "0             2016                 8  "
      ]
     },
     "execution_count": 731,
     "metadata": {},
     "output_type": "execute_result"
    }
   ],
   "source": [
    "df_copia = df_mergeado_inner.copy()\n",
    "df_copia.head(1)"
   ]
  },
  {
   "cell_type": "code",
   "execution_count": 732,
   "metadata": {},
   "outputs": [
    {
     "data": {
      "text/plain": [
       "array([[92552.],\n",
       "       [92552.],\n",
       "       [92552.],\n",
       "       ...,\n",
       "       [75616.],\n",
       "       [75616.],\n",
       "       [75616.]])"
      ]
     },
     "execution_count": 732,
     "metadata": {},
     "output_type": "execute_result"
    }
   ],
   "source": [
    "imputer_iterative = IterativeImputer(max_iter = 20, random_state = 42)\n",
    "\n",
    "imputer_iterative_imputado = imputer_iterative.fit_transform(df_copia[[\"Salary\"]])\n",
    "\n",
    "imputer_iterative_imputado"
   ]
  },
  {
   "cell_type": "code",
   "execution_count": 733,
   "metadata": {},
   "outputs": [],
   "source": [
    "df_copia[[\"Salary_iterative\"]] = imputer_iterative_imputado\n"
   ]
  },
  {
   "cell_type": "code",
   "execution_count": 734,
   "metadata": {},
   "outputs": [
    {
     "data": {
      "text/html": [
       "<div>\n",
       "<style scoped>\n",
       "    .dataframe tbody tr th:only-of-type {\n",
       "        vertical-align: middle;\n",
       "    }\n",
       "\n",
       "    .dataframe tbody tr th {\n",
       "        vertical-align: top;\n",
       "    }\n",
       "\n",
       "    .dataframe thead th {\n",
       "        text-align: right;\n",
       "    }\n",
       "</style>\n",
       "<table border=\"1\" class=\"dataframe\">\n",
       "  <thead>\n",
       "    <tr style=\"text-align: right;\">\n",
       "      <th></th>\n",
       "      <th>Salary</th>\n",
       "      <th>Salary_iterative</th>\n",
       "    </tr>\n",
       "  </thead>\n",
       "  <tbody>\n",
       "    <tr>\n",
       "      <th>count</th>\n",
       "      <td>302952.000000</td>\n",
       "      <td>405624.000000</td>\n",
       "    </tr>\n",
       "    <tr>\n",
       "      <th>mean</th>\n",
       "      <td>79381.440228</td>\n",
       "      <td>79381.440228</td>\n",
       "    </tr>\n",
       "    <tr>\n",
       "      <th>std</th>\n",
       "      <td>34735.904533</td>\n",
       "      <td>30019.504623</td>\n",
       "    </tr>\n",
       "    <tr>\n",
       "      <th>min</th>\n",
       "      <td>9081.000000</td>\n",
       "      <td>9081.000000</td>\n",
       "    </tr>\n",
       "    <tr>\n",
       "      <th>25%</th>\n",
       "      <td>59262.000000</td>\n",
       "      <td>63899.000000</td>\n",
       "    </tr>\n",
       "    <tr>\n",
       "      <th>50%</th>\n",
       "      <td>73479.000000</td>\n",
       "      <td>79381.440228</td>\n",
       "    </tr>\n",
       "    <tr>\n",
       "      <th>75%</th>\n",
       "      <td>88612.000000</td>\n",
       "      <td>82940.000000</td>\n",
       "    </tr>\n",
       "    <tr>\n",
       "      <th>max</th>\n",
       "      <td>407228.000000</td>\n",
       "      <td>407228.000000</td>\n",
       "    </tr>\n",
       "  </tbody>\n",
       "</table>\n",
       "</div>"
      ],
      "text/plain": [
       "              Salary  Salary_iterative\n",
       "count  302952.000000     405624.000000\n",
       "mean    79381.440228      79381.440228\n",
       "std     34735.904533      30019.504623\n",
       "min      9081.000000       9081.000000\n",
       "25%     59262.000000      63899.000000\n",
       "50%     73479.000000      79381.440228\n",
       "75%     88612.000000      82940.000000\n",
       "max    407228.000000     407228.000000"
      ]
     },
     "execution_count": 734,
     "metadata": {},
     "output_type": "execute_result"
    }
   ],
   "source": [
    "df_copia.describe()[[\"Salary\",\"Salary_iterative\"]]\n",
    "# la columna salarios tiene bastantes outliers, decido aplicar \n",
    "# el iterative imputer( el knn lleva demasiado tiempo)"
   ]
  },
  {
   "cell_type": "code",
   "execution_count": 735,
   "metadata": {},
   "outputs": [
    {
     "data": {
      "text/plain": [
       "Index(['Loyalty Number', 'Year', 'Month', 'Flights Booked',\n",
       "       'Flights with Companions', 'Total Flights', 'Distance',\n",
       "       'Points Accumulated', 'Points Redeemed', 'Dollar Cost Points Redeemed',\n",
       "       'Country', 'Province', 'City', 'Postal Code', 'Gender', 'Education',\n",
       "       'Salary', 'Marital Status', 'Loyalty Card', 'CLV', 'Enrollment Type',\n",
       "       'Enrollment Year', 'Enrollment Month', 'Salary_iterative'],\n",
       "      dtype='object')"
      ]
     },
     "execution_count": 735,
     "metadata": {},
     "output_type": "execute_result"
    }
   ],
   "source": [
    "df_copia.columns"
   ]
  },
  {
   "cell_type": "code",
   "execution_count": 736,
   "metadata": {},
   "outputs": [],
   "source": [
    "df_copia.drop([\"Salary\" ], axis = 1, inplace = True)\n",
    "\n"
   ]
  },
  {
   "cell_type": "code",
   "execution_count": 737,
   "metadata": {},
   "outputs": [],
   "source": [
    "# ahora vamos a cambiar el nombre de las columnas que quedaron para que tengan el mismo nombre de origen\n",
    "nuevo_nombre = {\"Salary_iterative\": \"Salary\"}\n",
    "df_copia.rename(columns = nuevo_nombre, inplace = True)"
   ]
  },
  {
   "cell_type": "code",
   "execution_count": 738,
   "metadata": {},
   "outputs": [
    {
     "data": {
      "text/plain": [
       "0"
      ]
     },
     "execution_count": 738,
     "metadata": {},
     "output_type": "execute_result"
    }
   ],
   "source": [
    "df_copia[\"Salary\"].isnull().sum()"
   ]
  },
  {
   "cell_type": "code",
   "execution_count": 739,
   "metadata": {},
   "outputs": [],
   "source": [
    "df_mergeado_inner=df_copia"
   ]
  },
  {
   "cell_type": "code",
   "execution_count": 740,
   "metadata": {},
   "outputs": [
    {
     "data": {
      "text/plain": [
       "0"
      ]
     },
     "execution_count": 740,
     "metadata": {},
     "output_type": "execute_result"
    }
   ],
   "source": [
    "df_mergeado_inner[\"Salary\"].isnull().sum()"
   ]
  },
  {
   "cell_type": "markdown",
   "metadata": {},
   "source": [
    "VISUALIZACIÓN"
   ]
  },
  {
   "cell_type": "markdown",
   "metadata": {},
   "source": [
    "Fase 2: Visualización\n",
    "Usando las herramientas de visualización que has aprendido durante este módulo, contesta a las siguientes gráficas usando la mejor gráfica que consideres:"
   ]
  },
  {
   "cell_type": "markdown",
   "metadata": {},
   "source": [
    "1.¿Cómo se distribuye la cantidad de vuelos reservados por mes durante el año?"
   ]
  },
  {
   "cell_type": "code",
   "execution_count": 741,
   "metadata": {},
   "outputs": [
    {
     "data": {
      "image/png": "[encoded data removed]",
      "text/plain": [
       "<Figure size 432x288 with 1 Axes>"
      ]
     },
     "metadata": {},
     "output_type": "display_data"
    }
   ],
   "source": [
    "#Agrupamos los vuelos por mes.La variable resultante de la agrupación es un object.\n",
    "\n",
    "vuelos_mes = df_mergeado_inner.groupby('Month')['Total Flights'].sum().reset_index()\n",
    "\n",
    "#Ahora pasamos a visualizar, para ello usamos un barplot porque estamos analizando una columna numérica\n",
    "# y una variable de tipo object.\n",
    "\n",
    "# Crear el gráfico de barras:\n",
    "\n",
    "plt.figure(figsize=(6, 4))\n",
    "sns.barplot(x='Month', y='Total Flights', data=vuelos_mes, palette=\"viridis\")\n",
    "plt.title('Distribución de la Cantidad de Vuelos Reservados por Mes')\n",
    "plt.xlabel('Mes')\n",
    "plt.ylabel('Cantidad de Vuelos')\n",
    "plt.show()\n",
    "\n",
    "#Observamos que la reserva de vuelos es estacional y obedece al período estival(Junio-Agosto) y período de Navidad(Diciembre)"
   ]
  },
  {
   "cell_type": "markdown",
   "metadata": {},
   "source": [
    "2.¿Existe una relación entre la distancia de los vuelos y los puntos acumulados por los clientes?"
   ]
  },
  {
   "cell_type": "code",
   "execution_count": 742,
   "metadata": {},
   "outputs": [
    {
     "data": {
      "image/png": "[encoded data removed]",
      "text/plain": [
       "<Figure size 720x432 with 1 Axes>"
      ]
     },
     "metadata": {},
     "output_type": "display_data"
    }
   ],
   "source": [
    "#Usamos un scatterplot porque analizamos la relación e/ 2 variables numéricas \n",
    "plt.figure(figsize=(10, 6))\n",
    "sns.scatterplot(x='Distance', y='Points Accumulated', data=df_mergeado_inner, color='blue')\n",
    "plt.title('Relación entre Distancia de Vuelos y Puntos Acumulados')\n",
    "plt.xlabel('Distancia de Vuelos')\n",
    "plt.ylabel('Puntos Acumulados')\n",
    "plt.show()\n",
    "\n",
    "# Podríamos decir que hay una relación e/distancia de los vuelos y los puntos acumulados. \n",
    "# Más puntos acumulados, más vuelos de larga distancia. \n",
    "# Hace pensar que los clientes tienden a gastar\n",
    "# los puntos en aquellos viajes más costosos y por lo tanto mayor ahorro."
   ]
  },
  {
   "cell_type": "markdown",
   "metadata": {},
   "source": [
    "3.¿Cuál es la distribución de los clientes por provincia o estado?"
   ]
  },
  {
   "cell_type": "code",
   "execution_count": 743,
   "metadata": {},
   "outputs": [
    {
     "data": {
      "image/png": "[encoded data removed]",
      "text/plain": [
       "<Figure size 432x288 with 1 Axes>"
      ]
     },
     "metadata": {},
     "output_type": "display_data"
    }
   ],
   "source": [
    "#Usamos un countplot porque estudiamos la frecuencia de una variable categórica\n",
    "plt.figure(figsize=(6, 4))\n",
    "sns.countplot(x='Province', data=df_mergeado_inner, palette='viridis')\n",
    "plt.title('Distribución de Clientes por Provincia')\n",
    "plt.xlabel('Provincia')\n",
    "plt.ylabel('Número de Clientes')\n",
    "plt.xticks(rotation=45, ha='right')  # Rotar las etiquetas del eje x para mayor claridad\n",
    "plt.show()\n",
    "\n",
    "#El gráfico nos hace señala que la mayor concentración \n",
    "# de clientes están en los estados de Ontario y British Columbia."
   ]
  },
  {
   "cell_type": "markdown",
   "metadata": {},
   "source": [
    "¿Cómo se compara el salario promedio entre los diferentes niveles educativos de los clientes?"
   ]
  },
  {
   "cell_type": "code",
   "execution_count": 744,
   "metadata": {},
   "outputs": [
    {
     "data": {
      "image/png": "[encoded data removed]",
      "text/plain": [
       "<Figure size 576x288 with 1 Axes>"
      ]
     },
     "metadata": {},
     "output_type": "display_data"
    }
   ],
   "source": [
    "#Usamos el boxplot porque estamos tratando con una variable numérica y categórica.\n",
    "median_salary_by_education = df_mergeado_inner.groupby('Education')['Salary'].median().reset_index()\n",
    "\n",
    "# Crear el diagrama de caja con la mediana resaltada\n",
    "plt.figure(figsize=(8, 4))\n",
    "sns.boxplot(x='Education', y='Salary', data=df_mergeado_inner)\n",
    "plt.title('Distribución del Salario por Nivel Educativo')\n",
    "plt.xlabel('Nivel Educativo')\n",
    "plt.ylabel('Salario')\n",
    "plt.show()\n",
    "\n",
    "# Visualizando la gráfica observamos que no hay gran cantidad de outliers\n",
    "# Para el nivel educativo college observamos que los valores coinciden en un punto, \n",
    "# ésto se debe a la imputación de nulos gestionada más arriba.\n",
    "# Esta categoría concentraba los nulos de la columna salario.\n"
   ]
  },
  {
   "cell_type": "markdown",
   "metadata": {},
   "source": [
    "¿Cuál es la proporción de clientes con diferentes tipos de tarjetas de fidelidad?"
   ]
  },
  {
   "cell_type": "code",
   "execution_count": 745,
   "metadata": {},
   "outputs": [
    {
     "data": {
      "image/png": "[encoded data removed]",
      "text/plain": [
       "<Figure size 360x360 with 1 Axes>"
      ]
     },
     "metadata": {},
     "output_type": "display_data"
    }
   ],
   "source": [
    "#Primero vemos qué variables se busca representar, en éste caso es categórica. \n",
    "# Además se nos pide las proporciones; pieplot\n",
    "# Buscamos los valores en \"Loyalty Card\", si hay pocos podemos definirlos como las etiquetas\n",
    "Card_Values = df_mergeado_inner['Loyalty Card'].value_counts()\n",
    "\n",
    "Index= Card_Values.index\n",
    "\n",
    "sns.set(style=\"whitegrid\")\n",
    "\n",
    "# Configurar el gráfico de torta\n",
    "plt.figure(figsize=(5, 5))\n",
    "plt.pie(Card_Values, labels=Index, autopct='%1.1f%%', startangle=90)\n",
    "plt.title('Proporción de Clientes por Tipo de Tarjeta de Fidelidad')\n",
    "plt.show()"
   ]
  },
  {
   "cell_type": "markdown",
   "metadata": {},
   "source": [
    "¿Cómo se distribuyen los clientes según su estado civil y género?"
   ]
  },
  {
   "cell_type": "code",
   "execution_count": 746,
   "metadata": {},
   "outputs": [
    {
     "data": {
      "image/png": "[encoded data removed]",
      "text/plain": [
       "<Figure size 432x288 with 1 Axes>"
      ]
     },
     "metadata": {},
     "output_type": "display_data"
    }
   ],
   "source": [
    "# En este caso usamos el countplot porque analizamos 2 variables categóricas y su distribución por género.\n",
    "plt.figure(figsize=(6, 4))\n",
    "sns.countplot(x='Marital Status', hue='Gender', data=df_mergeado_inner, palette=\"viridis\")\n",
    "plt.title('Distribución de Clientes según Estado Civil y Género')\n",
    "plt.xlabel('Estado Civil')\n",
    "plt.ylabel('Número de Clientes')\n",
    "plt.show()\n",
    "\n",
    "#Observamos que los clientes cuyo estado civil \"Casado\" tienen una distribución mayor \n",
    "# y existen pocas diferencias por género en los tres cateforías de estado civil"
   ]
  },
  {
   "cell_type": "markdown",
   "metadata": {},
   "source": [
    "Fase 3: Evaluación de Diferencias en Reservas de Vuelos por Nivel Educativo\n",
    "\n",
    "Objetivo del Ejercicio: Utilizando un conjunto de datos que hemos compartido, se busca evaluar si existen diferencias significativas en el número de vuelos reservados según el nivel educativo de los clientes.\n",
    "\n",
    "1Para ello, los pasos que deberas seguir son:\n",
    "\n",
    "Preparación de Datos:\n",
    "\n",
    "Filtra el conjunto de datos para incluir únicamente las columnas relevantes: 'Flights Booked' y 'Education'.\n",
    "\n",
    "2Análisis Descriptivo:\n",
    "\n",
    "Agrupa los datos por nivel educativo y calcula estadísticas descriptivas básicas (como el promedio, la desviación estandar, los percentiles) del número de vuelos reservados para cada grupo.\n",
    "\n",
    "3Prueba Estadística:\n",
    "Realiza una prueba de A/B testing para determinar si existe una diferencia significativa en el número de vuelos reservados entre los diferentes niveles educativos."
   ]
  },
  {
   "cell_type": "code",
   "execution_count": 747,
   "metadata": {},
   "outputs": [
    {
     "data": {
      "text/plain": [
       "Education\n",
       "Bachelor                253752\n",
       "College                 102672\n",
       "High School or Below     19008\n",
       "Doctor                   17856\n",
       "Master                   12336\n",
       "Name: count, dtype: int64"
      ]
     },
     "execution_count": 747,
     "metadata": {},
     "output_type": "execute_result"
    }
   ],
   "source": [
    "df_mergeado_inner[\"Education\"].value_counts()"
   ]
  },
  {
   "cell_type": "code",
   "execution_count": 748,
   "metadata": {},
   "outputs": [],
   "source": [
    "def categorizar_grupos(educacion):\n",
    "    if educacion == \"College\" or educacion == \"High School or Below\":\n",
    "        return \"Educación Básica\"\n",
    "    else:\n",
    "        return \"Educación Superior\"\n",
    "    \n",
    "\n",
    "df_mergeado_inner[\"Grupo Educacion\"]= df_mergeado_inner[\"Education\"].apply(categorizar_grupos)"
   ]
  },
  {
   "cell_type": "code",
   "execution_count": 749,
   "metadata": {},
   "outputs": [
    {
     "data": {
      "text/plain": [
       "Grupo Educacion\n",
       "Educación Superior    283944\n",
       "Educación Básica      121680\n",
       "Name: count, dtype: int64"
      ]
     },
     "execution_count": 749,
     "metadata": {},
     "output_type": "execute_result"
    }
   ],
   "source": [
    "df_mergeado_inner[\"Grupo Educacion\"].value_counts()"
   ]
  },
  {
   "cell_type": "code",
   "execution_count": null,
   "metadata": {},
   "outputs": [],
   "source": []
  },
  {
   "cell_type": "code",
   "execution_count": 750,
   "metadata": {},
   "outputs": [],
   "source": [
    "#Agrupo por Loyalty Number y sumo los vuelos reservados. \n",
    "# En la columna Loyalty Number tenemos núm de clientes repetidos,\n",
    "# con la agrupación puedo ver el núm de reservas total por cada cliente.\n",
    "#Creo un df para poder hacer el merge con el df siguiente.\n",
    "df_test=df_mergeado_inner.groupby(\"Loyalty Number\")[\"Flights Booked\"].sum()\n",
    "df_test = df_test.reset_index(name='Flights Booked')\n"
   ]
  },
  {
   "cell_type": "code",
   "execution_count": 751,
   "metadata": {},
   "outputs": [],
   "source": [
    "# En este caso del df principal sólo me interesa el loyalty number y su grupo según nivel educación.\n",
    "# Como tengo duplicados, causados por la columna Loyalty Nomber, hago el drop.\n",
    "df_test2=df_mergeado_inner[[\"Loyalty Number\",\"Grupo Educacion\"]]\n",
    "df_test2 = df_test2.drop_duplicates()"
   ]
  },
  {
   "cell_type": "code",
   "execution_count": 752,
   "metadata": {},
   "outputs": [
    {
     "data": {
      "text/html": [
       "<div>\n",
       "<style scoped>\n",
       "    .dataframe tbody tr th:only-of-type {\n",
       "        vertical-align: middle;\n",
       "    }\n",
       "\n",
       "    .dataframe tbody tr th {\n",
       "        vertical-align: top;\n",
       "    }\n",
       "\n",
       "    .dataframe thead th {\n",
       "        text-align: right;\n",
       "    }\n",
       "</style>\n",
       "<table border=\"1\" class=\"dataframe\">\n",
       "  <thead>\n",
       "    <tr style=\"text-align: right;\">\n",
       "      <th></th>\n",
       "      <th>Loyalty Number</th>\n",
       "      <th>Flights Booked</th>\n",
       "      <th>Grupo Educacion</th>\n",
       "    </tr>\n",
       "  </thead>\n",
       "  <tbody>\n",
       "    <tr>\n",
       "      <th>0</th>\n",
       "      <td>100018</td>\n",
       "      <td>157</td>\n",
       "      <td>Educación Superior</td>\n",
       "    </tr>\n",
       "    <tr>\n",
       "      <th>1</th>\n",
       "      <td>100102</td>\n",
       "      <td>173</td>\n",
       "      <td>Educación Básica</td>\n",
       "    </tr>\n",
       "    <tr>\n",
       "      <th>2</th>\n",
       "      <td>100140</td>\n",
       "      <td>152</td>\n",
       "      <td>Educación Básica</td>\n",
       "    </tr>\n",
       "    <tr>\n",
       "      <th>3</th>\n",
       "      <td>100214</td>\n",
       "      <td>79</td>\n",
       "      <td>Educación Superior</td>\n",
       "    </tr>\n",
       "    <tr>\n",
       "      <th>4</th>\n",
       "      <td>100272</td>\n",
       "      <td>127</td>\n",
       "      <td>Educación Superior</td>\n",
       "    </tr>\n",
       "    <tr>\n",
       "      <th>...</th>\n",
       "      <td>...</td>\n",
       "      <td>...</td>\n",
       "      <td>...</td>\n",
       "    </tr>\n",
       "    <tr>\n",
       "      <th>16732</th>\n",
       "      <td>999902</td>\n",
       "      <td>178</td>\n",
       "      <td>Educación Básica</td>\n",
       "    </tr>\n",
       "    <tr>\n",
       "      <th>16733</th>\n",
       "      <td>999911</td>\n",
       "      <td>0</td>\n",
       "      <td>Educación Superior</td>\n",
       "    </tr>\n",
       "    <tr>\n",
       "      <th>16734</th>\n",
       "      <td>999940</td>\n",
       "      <td>63</td>\n",
       "      <td>Educación Superior</td>\n",
       "    </tr>\n",
       "    <tr>\n",
       "      <th>16735</th>\n",
       "      <td>999982</td>\n",
       "      <td>22</td>\n",
       "      <td>Educación Básica</td>\n",
       "    </tr>\n",
       "    <tr>\n",
       "      <th>16736</th>\n",
       "      <td>999986</td>\n",
       "      <td>121</td>\n",
       "      <td>Educación Superior</td>\n",
       "    </tr>\n",
       "  </tbody>\n",
       "</table>\n",
       "<p>16737 rows × 3 columns</p>\n",
       "</div>"
      ],
      "text/plain": [
       "       Loyalty Number  Flights Booked     Grupo Educacion\n",
       "0              100018             157  Educación Superior\n",
       "1              100102             173    Educación Básica\n",
       "2              100140             152    Educación Básica\n",
       "3              100214              79  Educación Superior\n",
       "4              100272             127  Educación Superior\n",
       "...               ...             ...                 ...\n",
       "16732          999902             178    Educación Básica\n",
       "16733          999911               0  Educación Superior\n",
       "16734          999940              63  Educación Superior\n",
       "16735          999982              22    Educación Básica\n",
       "16736          999986             121  Educación Superior\n",
       "\n",
       "[16737 rows x 3 columns]"
      ]
     },
     "execution_count": 752,
     "metadata": {},
     "output_type": "execute_result"
    }
   ],
   "source": [
    "#Unifico las dos tablas para poder trabajar el AB Testing\n",
    "df_merged_AB= pd.merge(df_test, df_test2, on='Loyalty Number', how='inner')\n",
    "df_merged_AB"
   ]
  },
  {
   "cell_type": "code",
   "execution_count": 753,
   "metadata": {},
   "outputs": [
    {
     "data": {
      "image/png": "[encoded data removed]",
      "text/plain": [
       "<Figure size 216x216 with 1 Axes>"
      ]
     },
     "metadata": {},
     "output_type": "display_data"
    }
   ],
   "source": [
    "#Hago una visualización sobre cómo se reparte el numero de vuelos reservados para ambos grupos.\n",
    "# Vemos rápidamente que el grupo de estudios superiores tiene un % mayor de reservas que el de estudios básicos.\n",
    "Values = df_merged_AB['Grupo Educacion'].value_counts()\n",
    "\n",
    "Index= Values.index\n",
    "\n",
    "sns.set(style=\"whitegrid\")\n",
    "\n",
    "\n",
    "# Configurar el gráfico de torta\n",
    "plt.figure(figsize=(3, 3))\n",
    "plt.pie(Values, labels=Index, autopct='%1.1f%%', startangle=90)\n",
    "plt.title('Proporción de vuelos reservados por niveles educativos')\n",
    "plt.show()"
   ]
  },
  {
   "cell_type": "code",
   "execution_count": 754,
   "metadata": {},
   "outputs": [],
   "source": [
    "# lo primero que hacemos es crear una función para testar la normalidad de los datos\n",
    "def normalidad(dataframe, columna):\n",
    "    \"\"\"\n",
    "    Evalúa la normalidad de una columna de datos de un DataFrame utilizando la prueba de Shapiro-Wilk.\n",
    "\n",
    "    Parámetros:\n",
    "        dataframe (DataFrame): El DataFrame que contiene los datos.\n",
    "        columna (str): El nombre de la columna en el DataFrame que se va a evaluar para la normalidad.\n",
    "\n",
    "    Returns:\n",
    "        None: Imprime un mensaje indicando si los datos siguen o no una distribución normal.\n",
    "    \"\"\"\n",
    "\n",
    "    statistic, p_value = stats.shapiro(dataframe[columna])\n",
    "    if p_value > 0.05:\n",
    "        print(f\"Para la columna {columna} los datos siguen una distribución normal.\")\n",
    "    else:\n",
    "        print(f\"Para la columna {columna} los datos no siguen una distribución normal.\")"
   ]
  },
  {
   "cell_type": "code",
   "execution_count": 755,
   "metadata": {},
   "outputs": [
    {
     "name": "stdout",
     "output_type": "stream",
     "text": [
      "Para la columna Flights Booked los datos no siguen una distribución normal.\n",
      "el resultado es que al no ser una distribución normal deberemos hacer el Test de Mann Whitney para no paramétricas.\n"
     ]
    }
   ],
   "source": [
    "normalidad(df_merged_AB,\"Flights Booked\")\n",
    "\n",
    "print(\"el resultado es que al no ser una distribución normal deberemos hacer el Test de Mann Whitney para no paramétricas.\")"
   ]
  },
  {
   "cell_type": "code",
   "execution_count": 756,
   "metadata": {},
   "outputs": [
    {
     "name": "stdout",
     "output_type": "stream",
     "text": [
      "Para la métrica Flights Booked, las medianas son iguales.\n",
      "Concluimos que no hay diferencias en las reservas de vuelos entre los dos grupos: Educación superior y Educación Básica\n"
     ]
    }
   ],
   "source": [
    "def test_man_whitney(dataframe, columna, grupo_basico, grupo_superior, columna_grupos = \"Grupo Educacion\"):\n",
    "    # filtramos el DataFrame para quedarnos solo con los datos del grupo de educacion basica\n",
    "    grupo_basico= dataframe[dataframe[columna_grupos] == grupo_basico]['Flights Booked']\n",
    "    # filtramos el DataFrame para quedarnos solo con los datos del grupo de educacion superior\n",
    "    grupo_superior = dataframe[dataframe[columna_grupos] == grupo_superior]['Flights Booked']\n",
    "    u_statistic, p_value = stats.mannwhitneyu(grupo_basico, grupo_superior)\n",
    "    if p_value < 0.05:\n",
    "        print(f\"Para la métrica Flihgts Booked las medianas son diferentes.\")\n",
    "    else:\n",
    "        print(f\"Para la métrica Flights Booked, las medianas son iguales.\")\n",
    "test_man_whitney(df_merged_AB,'Flihgts Booked', \"Educación Básica\", \"Educación Superior\" )\n",
    "\n",
    "print(\"Concluimos que no hay diferencias en las reservas de vuelos entre los dos grupos: Educación superior y Educación Básica\")"
   ]
  }
 ],
 "metadata": {
  "kernelspec": {
   "display_name": "Python 3",
   "language": "python",
   "name": "python3"
  },
  "language_info": {
   "codemirror_mode": {
    "name": "ipython",
    "version": 3
   },
   "file_extension": ".py",
   "mimetype": "text/x-python",
   "name": "python",
   "nbconvert_exporter": "python",
   "pygments_lexer": "ipython3",
   "version": "3.9.7"
  }
 },
 "nbformat": 4,
 "nbformat_minor": 2
}
